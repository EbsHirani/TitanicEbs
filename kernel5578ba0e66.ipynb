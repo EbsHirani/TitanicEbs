{
 "cells": [
  {
   "cell_type": "code",
   "execution_count": 1,
   "metadata": {
    "_cell_guid": "b1076dfc-b9ad-4769-8c92-a6c4dae69d19",
    "_uuid": "8f2839f25d086af736a60e9eeb907d3b93b6e0e5"
   },
   "outputs": [],
   "source": [
    "# This Python 3 environment comes with many helpful analytics libraries installed\n",
    "# It is defined by the kaggle/python docker image: https://github.com/kaggle/docker-python\n",
    "# For example, here's several helpful packages to load in \n",
    "\n",
    "import numpy as np # linear algebra\n",
    "import pandas as pd # data processing, CSV file I/O (e.g. pd.read_csv)\n",
    "\n",
    "# Input data files are available in the \"../input/\" directory.\n",
    "# For example, running this (by clicking run or pressing Shift+Enter) will list all files under the input directory\n",
    "\n",
    "import os\n",
    "for dirname, _, filenames in os.walk('/kaggle/input'):\n",
    "    for filename in filenames:\n",
    "        print(os.path.join(dirname, filename))\n",
    "\n",
    "# Any results you write to the current directory are saved as output."
   ]
  },
  {
   "cell_type": "code",
   "execution_count": null,
   "metadata": {
    "_cell_guid": "79c7e3d0-c299-4dcb-8224-4455121ee9b0",
    "_uuid": "d629ff2d2480ee46fbb7e2d37f6b5fab8052498a"
   },
   "outputs": [],
   "source": [
    "import torch\n",
    "from sklearn.linear_model import LogisticRegression\n",
    "from sklearn.preprocessing import StandardScaler\n",
    "from sklearn.model_selection import cross_val_score\n",
    "xtrain = pd.read_csv('/kaggle/input/titanic/train.csv')\n",
    "xtest = pd.read_csv('/kaggle/input/titanic/test.csv')\n",
    "xtrain.drop(columns=\"PassengerId\",inplace=True)\n",
    "#xtrain.drop(columns=\"Survived\",inplace=True)\n",
    "xtrain.drop(columns='Cabin',inplace=True)\n",
    "xtrain.drop(columns='Fare',inplace=True)\n",
    "xtrain.drop(columns='Ticket',inplace=True)\n",
    "xtrain.drop(columns='Embarked',inplace=True)\n",
    "xtrain.drop(columns='Name',inplace=True)\n",
    "xtrain.drop(columns='SibSp',inplace=True)\n",
    "xtrain.drop(columns='Parch',inplace=True)\n",
    "xtrain['male'] = pd.get_dummies(xtrain['Sex'],drop_first = True)\n",
    "xtrain.drop(columns='Sex',inplace=True)\n",
    "ytrain=xtrain['Survived'].astype(int)\n",
    "xtrain.drop(columns = 'Survived',inplace=True)\n",
    "#abc\n",
    "pid = xtest['PassengerId'] \n",
    "xtest.drop(columns=\"PassengerId\",inplace=True)\n",
    "#xtrain.drop(columns=\"Survived\",inplace=True)\n",
    "xtest.drop(columns='Cabin',inplace=True)\n",
    "xtest.drop(columns='Fare',inplace=True)\n",
    "xtest.drop(columns='Ticket',inplace=True)\n",
    "xtest.drop(columns='Embarked',inplace=True)\n",
    "xtest.drop(columns='Name',inplace=True)\n",
    "xtest.drop(columns='SibSp',inplace=True)\n",
    "xtest.drop(columns='Parch',inplace=True)\n",
    "xtest['male'] = pd.get_dummies(xtest['Sex'],drop_first = True)\n",
    "xtest.drop(columns='Sex',inplace=True)\n",
    "# xtrain.drop(columns = 'Age',inplace=True)\n",
    "agemean = xtrain['Age'].mean()\n",
    "xtrain = xtrain.fillna(agemean)\n",
    "xtest = xtest.fillna(agemean)\n",
    "scaler = StandardScaler()\n",
    "xtrain = scaler.fit_transform(xtrain)\n",
    "xtest = scaler.transform(xtest)\n",
    "model = LogisticRegression(random_state=42)\n",
    "# score = cross_val_score(model,xtrain,ytrain,cv = 10)\n",
    "model.fit(xtrain,ytrain)\n",
    "pred = model.predict(xtest)\n",
    "submission = pd.DataFrame({'PassengerId':pid,'Survived':pred})\n",
    "submission.to_csv('submission.csv',index = False)\n",
    "\n",
    "\n",
    "\n",
    "\n",
    "\n"
   ]
  }
 ],
 "metadata": {
  "kernelspec": {
   "display_name": "Python 3",
   "language": "python",
   "name": "python3"
  },
  "language_info": {
   "codemirror_mode": {
    "name": "ipython",
    "version": 3
   },
   "file_extension": ".py",
   "mimetype": "text/x-python",
   "name": "python",
   "nbconvert_exporter": "python",
   "pygments_lexer": "ipython3",
   "version": "3.7.3"
  }
 },
 "nbformat": 4,
 "nbformat_minor": 1
}
